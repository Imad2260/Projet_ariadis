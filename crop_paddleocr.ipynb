{
 "cells": [
  {
   "cell_type": "code",
   "execution_count": 1,
   "metadata": {},
   "outputs": [],
   "source": [
    "import matplotlib.pyplot as plt\n",
    "from paddleocr import PaddleOCR,draw_ocr\n",
    "import cv2\n",
    "import numpy as np"
   ]
  },
  {
   "cell_type": "code",
   "execution_count": 2,
   "metadata": {},
   "outputs": [
    {
     "name": "stdout",
     "output_type": "stream",
     "text": [
      "[2023/06/21 11:14:38] ppocr DEBUG: Namespace(help='==SUPPRESS==', use_gpu=False, use_xpu=False, use_npu=False, ir_optim=True, use_tensorrt=False, min_subgraph_size=15, precision='fp32', gpu_mem=500, gpu_id=0, image_dir=None, page_num=0, det_algorithm='DB', det_model_dir='/home/tsocat/.paddleocr/whl/det/en/en_PP-OCRv3_det_infer', det_limit_side_len=960, det_limit_type='max', det_box_type='quad', det_db_thresh=0.3, det_db_box_thresh=0.6, det_db_unclip_ratio=1.5, max_batch_size=10, use_dilation=False, det_db_score_mode='fast', det_east_score_thresh=0.8, det_east_cover_thresh=0.1, det_east_nms_thresh=0.2, det_sast_score_thresh=0.5, det_sast_nms_thresh=0.2, det_pse_thresh=0, det_pse_box_thresh=0.85, det_pse_min_area=16, det_pse_scale=1, scales=[8, 16, 32], alpha=1.0, beta=1.0, fourier_degree=5, rec_algorithm='SVTR_LCNet', rec_model_dir='/home/tsocat/.paddleocr/whl/rec/en/en_PP-OCRv3_rec_infer', rec_image_inverse=True, rec_image_shape='3, 48, 320', rec_batch_num=6, max_text_length=25, rec_char_dict_path='/home/tsocat/Ariadis/PaddleOCR/ppocr/utils/en_dict.txt', use_space_char=True, vis_font_path='./doc/fonts/simfang.ttf', drop_score=0.5, e2e_algorithm='PGNet', e2e_model_dir=None, e2e_limit_side_len=768, e2e_limit_type='max', e2e_pgnet_score_thresh=0.5, e2e_char_dict_path='./ppocr/utils/ic15_dict.txt', e2e_pgnet_valid_set='totaltext', e2e_pgnet_mode='fast', use_angle_cls=True, cls_model_dir='/home/tsocat/.paddleocr/whl/cls/ch_ppocr_mobile_v2.0_cls_infer', cls_image_shape='3, 48, 192', label_list=['0', '180'], cls_batch_num=6, cls_thresh=0.9, enable_mkldnn=False, cpu_threads=10, use_pdserving=False, warmup=False, sr_model_dir=None, sr_image_shape='3, 32, 128', sr_batch_num=1, draw_img_save_dir='./inference_results', save_crop_res=False, crop_res_save_dir='./output', use_mp=False, total_process_num=1, process_id=0, benchmark=False, save_log_path='./log_output/', show_log=True, use_onnx=False, output='./output', table_max_len=488, table_algorithm='TableAttn', table_model_dir=None, merge_no_span_structure=True, table_char_dict_path=None, layout_model_dir=None, layout_dict_path=None, layout_score_threshold=0.5, layout_nms_threshold=0.5, kie_algorithm='LayoutXLM', ser_model_dir=None, re_model_dir=None, use_visual_backbone=True, ser_dict_path='../train_data/XFUND/class_list_xfun.txt', ocr_order_method=None, mode='structure', image_orientation=False, layout=True, table=True, ocr=True, recovery=False, use_pdf2docx_api=False, lang='en', det=True, rec=True, type='ocr', ocr_version='PP-OCRv3', structure_version='PP-StructureV2')\n",
      "PHOTO-2023-06-09-11-33-52\n",
      "[2023/06/21 11:14:39] ppocr DEBUG: dt_boxes num : 30, elapse : 0.650587797164917\n",
      "[2023/06/21 11:14:39] ppocr DEBUG: cls num  : 30, elapse : 0.21982359886169434\n",
      "[2023/06/21 11:14:44] ppocr DEBUG: rec_res num  : 30, elapse : 4.191993713378906\n",
      "['UKAS', 'CARECBALP', 'KROMAN', 'Ek Mah Asroglu Cad No155 DARICA-KOCAELI', '41D0 DaricaKocaeliTURKiYE', 'HOT.ROLLED DEFORMED', 'MATERIAL', 'STEELS BARIN COIL', 'BS44492005', 'STANDARD', 'GRB500B', 'GRADE', '10064140', 'HEATNO', '12.00mm', 'DIAMETER', 'ABOUT3MTONS', 'WEIGHT', '16.10.2022', 'PROD.DATE', 'TURKEY', 'ORIGIN', 'KROMAN CELIK SANAYII A.S', 'MILL', '10064140F023']\n"
     ]
    }
   ],
   "source": [
    "# Paddleocr supports Chinese, English, French, German, Korean and Japanese.\n",
    "# You can set the parameter `lang` as `ch`, `en`, `fr`, `german`, `korean`, `japan`\n",
    "# to switch the language model in order.\n",
    "# ocr = PaddleOCR(use_angle_cls=True, lang='en', ocr_version='PP-OCR', use_space_char=True, rec_model_dir='/home/tsocat/Ariadis/PaddleOCR/output/rec_french_lite/best_accuracy') # need to run only once to download and load model into memory\n",
    "# ocr = PaddleOCR(use_angle_cls=True, lang='fr', ocr_version='PP-OCR', use_space_char=True, rec_model_dir='/home/tsocat/Ariadis/PaddleOCR/output/rec_french_lite/iter_epoch_800', rec_char_dict_path='/home/tsocat/Ariadis/PaddleOCR/ppocr/utils/dict/french_dict.txt')\n",
    "# ocr = PaddleOCR(use_angle_cls=True, lang='fr', rec_model_dir='/home/tsocat/Ariadis/PaddleOCR/inference/en_PP-OCRv3_rec', rec_char_dict_path='/home/tsocat/Ariadis/PaddleOCR/ppocr/utils/dict/french_dict.txt')\n",
    "# custom_ocr = PaddleOCR(use_angle_cls=True, lang='fr', rec_model_dir='/home/tsocat/Ariadis/PaddleOCR/output/rec_french_lite/best_accuracy', rec_char_dict_path='/home/tsocat/Ariadis/PaddleOCR/ppocr/utils/dict/french_dict.txt')\n",
    "# custom_ocr = PaddleOCR(use_angle_cls=True, lang='fr', rec_model_dir='/home/tsocat/Ariadis/PaddleOCR/french_mobile_v2.0_rec_train')\n",
    "custom_ocr = PaddleOCR(use_angle_cls=True, lang='en')\n",
    "# ocr = PaddleOCR(use_angle_cls=True, lang=\"fr\", rec_model_dir='/home/tsocat/Ariadis/PaddleOCR/french_mobile_v2.0_rec_train')\n",
    "for n in range(26, 27) :\n",
    "    img_path = f'/home/tsocat/Ariadis/photos/autre/PHOTO-2023-06-09-11-33-52.jpg'\n",
    "    img_name = img_path.split(\"/\")[-1].split('.')[0]\n",
    "    print(img_name)\n",
    "    result = custom_ocr.ocr(img_path, cls=True)\n",
    "    for line in result:\n",
    "        txts = [l[1][0] for l in line]\n",
    "        print(txts)\n",
    "\n",
    "\n",
    "    # draw result\n",
    "    from PIL import Image\n",
    "    image = Image.open(img_path).convert('RGB')\n",
    "    # boxes = [line[0][0] for line in result]\n",
    "    boxes = [l[0] for l in line]\n",
    "    # print('scores : ', line[1][1][0])\n",
    "    # print(boxes[0])\n",
    "    # txts = [line[1][1][0] for line in result]\n",
    "    txts = [l[1][0] for l in line]\n",
    "    # scores = [line[1][1][1] for line in result]\n",
    "    scores = [l[1][1] for l in line]\n",
    "    # print('scores : ', boxes)\n",
    "    im_show = draw_ocr(image, boxes, txts, scores, font_path='./fonts/simfang.ttf')\n",
    "    im_show = Image.fromarray(im_show)\n",
    "    # im_show.save(f'./results/result_model-2_{n}.jpg')\n",
    "    # img = cv2.imread(img_path)\n",
    "    # for i in range(len(boxes)):\n",
    "    #     boxes = np.array(boxes)\n",
    "    #     min_y = int(min(boxes[i][:,0]))\n",
    "    #     min_x = int(min(boxes[i][:,1]))\n",
    "    #     max_y = int(max(boxes[i][:,0]))\n",
    "    #     max_x = int(max(boxes[i][:,1]))\n",
    "    #     # print(boxes[i])\n",
    "    #     # print(min_x, min_y, max_x, max_y)\n",
    "    #     # cropped_img = image.crop(box=boxes[i])\n",
    "    #     cropped_img = img[min_x:max_x, min_y:max_y]\n",
    "    #     cropped_img = Image.fromarray(cropped_img)\n",
    "    #     cropped_img.save(f'../cropped_data/{img_name}_{i}.jpg')"
   ]
  },
  {
   "cell_type": "code",
   "execution_count": 10,
   "metadata": {},
   "outputs": [
    {
     "data": {
      "text/plain": [
       "True"
      ]
     },
     "execution_count": 10,
     "metadata": {},
     "output_type": "execute_result"
    }
   ],
   "source": [
    "image_to_rotate = cv2.imread(\"/home/tsocat/Ariadis/photos/autre/Armatech 25.jpg\")\n",
    "image_rotated = cv2.rotate(image_to_rotate, cv2.ROTATE_90_CLOCKWISE)\n",
    "cv2.imwrite('Armatech-25-90°.jpg',image_rotated)"
   ]
  }
 ],
 "metadata": {
  "kernelspec": {
   "display_name": "paddle_test",
   "language": "python",
   "name": "python3"
  },
  "language_info": {
   "codemirror_mode": {
    "name": "ipython",
    "version": 3
   },
   "file_extension": ".py",
   "mimetype": "text/x-python",
   "name": "python",
   "nbconvert_exporter": "python",
   "pygments_lexer": "ipython3",
   "version": "3.9.0"
  },
  "orig_nbformat": 4,
  "vscode": {
   "interpreter": {
    "hash": "24532fec2abf0b3910e3d70cce77a7b817c5dee1c1ccd89a193b98ff05a20667"
   }
  }
 },
 "nbformat": 4,
 "nbformat_minor": 2
}
